{
 "cells": [
  {
   "cell_type": "markdown",
   "metadata": {},
   "source": [
    "## <center>Carbon Intensity API Great Britain</center>\n",
    "\n",
    "La API de intensidad de carbono de National Grid proporciona una tendencia indicativa de la intensidad de carbono regional \n",
    "del sistema eléctrico en Gran Bretaña (GB) hasta 2 días antes del tiempo real.  \n",
    "Proporciona acceso :  \n",
    "    * Datos de intensidad de carbono pronosticados como estimados  \n",
    "El pronóstico de intensidad de carbono incluye las emisiones de CO2 relacionadas únicamente con la generación de electricidad.  \n",
    "    * Incluye las emisiones de todas las grandes centrales eléctricas con medidor\n",
    "    * Las importaciones de interconectores\n",
    "    * Las pérdidas de transmisión y distribución (representa la demanda nacional de electricidad)  \n",
    "    * La generación eólica y solar integrada.\n",
    "    \n",
    "**Link de la API :** [API (Carbo Intensity)](https://carbon-intensity.github.io/api-definitions/#carbon-intensity-api-v2-0-0).  \n",
    "**Tipo de datos :** JSON  \n",
    "**Base URL =**  [api.carbonintensity.org.uk](api.carbonintensity.org.uk). \n",
    "\n",
    "El API, asignada no necesitaba loguearse a una cuenta, tampoco necesitaba de algun Key, eso facilitó en muchas maneras, la extracción de la información requerida.\n",
    "\n",
    "![Esta es una imagen de ejemplo](https://gestion.pe/resizer/JQIbl-CFwQcR9_AbdonmfXeNWnY=/580x330/smart/filters:format(jpeg):quality(75)/arc-anglerfish-arc2-prod-elcomercio.s3.amazonaws.com/public/FBFL344RQJCO7GKQDK5V7XEFR4.jpg)"
   ]
  },
  {
   "cell_type": "markdown",
   "metadata": {},
   "source": [
    "#### Librerias a usar : "
   ]
  },
  {
   "cell_type": "code",
   "execution_count": 11,
   "metadata": {},
   "outputs": [],
   "source": [
    "import pandas as pd\n",
    "import requests\n",
    "import json\n",
    "from urllib.request import urlopen"
   ]
  },
  {
   "cell_type": "markdown",
   "metadata": {},
   "source": [
    "### Ejemplo 1 : "
   ]
  },
  {
   "cell_type": "markdown",
   "metadata": {},
   "source": [
    "Debido a que nuestro API, no requiere de un conexión a una cuenta, por lo que es más accesible la extracción de datos.\n",
    "Colocamos el URL de interes, como antes ya mencionamos, en el API de Carbono de National Grit.  \n",
    "Se pueden extraer multiples GET, el GET elegido seria : **Intensity Date**   \n",
    "**Total de datos a extraer :** 48  \n",
    "Link ha usar :[https://api.carbonintensity.org.uk/intensity/date](https://api.carbonintensity.org.uk/intensity/date)"
   ]
  },
  {
   "cell_type": "code",
   "execution_count": 9,
   "metadata": {},
   "outputs": [
    {
     "name": "stdout",
     "output_type": "stream",
     "text": [
      "<class 'dict'>\n",
      "dict_keys(['forecast', 'actual', 'index'])\n"
     ]
    }
   ],
   "source": [
    "# Mediante la libreria urllib.request, funcion urlopen extraemos en formado json la información de la intensidad por dia \n",
    "# registrado\n",
    "link=\"https://api.carbonintensity.org.uk/intensity/date\"\n",
    "uclient=urlopen(link)\n",
    "# Leemos los datos\n",
    "res=uclient.read()\n",
    "uclient.close()\n",
    "data = res.decode()\n",
    "\n",
    "# Convertimos a formato json (diccionarios)\n",
    "info = json.loads(data)\n",
    "print(type(info))\n",
    "# Observamos los keys, de la etiqueta intensity\n",
    "print(info[\"data\"][1][\"intensity\"].keys())"
   ]
  },
  {
   "cell_type": "markdown",
   "metadata": {},
   "source": [
    "#### Breve descripción de variables de extracción : \n",
    "* **Forecast** : Es la estimación del nivel emisión de carbono para la fecha indicada\n",
    "* **Actual** : Es el nivel de la  emision de carbono, emitida para la fecha indicada\n",
    "* **Index** : Clasifica el nivel de carbono (Low/Moderate/High)\n",
    "Al momento de extraer los datos, es posible que aparezaca None, debido a que los datos no han sido resgistrado, es decir, el \n",
    "registro de la emision de carbono, se da con consuetudinariamente."
   ]
  },
  {
   "cell_type": "code",
   "execution_count": 10,
   "metadata": {},
   "outputs": [
    {
     "name": "stdout",
     "output_type": "stream",
     "text": [
      "['2021-09-12T23:00Z', '2021-09-12T23:30Z', '2021-09-13T00:00Z', '2021-09-13T00:30Z', '2021-09-13T01:00Z', '2021-09-13T01:30Z', '2021-09-13T02:00Z', '2021-09-13T02:30Z', '2021-09-13T03:00Z', '2021-09-13T03:30Z', '2021-09-13T04:00Z', '2021-09-13T04:30Z', '2021-09-13T05:00Z', '2021-09-13T05:30Z', '2021-09-13T06:00Z', '2021-09-13T06:30Z', '2021-09-13T07:00Z', '2021-09-13T07:30Z', '2021-09-13T08:00Z', '2021-09-13T08:30Z', '2021-09-13T09:00Z', '2021-09-13T09:30Z', '2021-09-13T10:00Z', '2021-09-13T10:30Z', '2021-09-13T11:00Z', '2021-09-13T11:30Z', '2021-09-13T12:00Z', '2021-09-13T12:30Z', '2021-09-13T13:00Z', '2021-09-13T13:30Z', '2021-09-13T14:00Z', '2021-09-13T14:30Z', '2021-09-13T15:00Z', '2021-09-13T15:30Z', '2021-09-13T16:00Z', '2021-09-13T16:30Z', '2021-09-13T17:00Z', '2021-09-13T17:30Z', '2021-09-13T18:00Z', '2021-09-13T18:30Z', '2021-09-13T19:00Z', '2021-09-13T19:30Z', '2021-09-13T20:00Z', '2021-09-13T20:30Z', '2021-09-13T21:00Z', '2021-09-13T21:30Z', '2021-09-13T22:00Z', '2021-09-13T22:30Z']\n"
     ]
    }
   ],
   "source": [
    "# Extraemos los diferentes tipos de datos, y los clasificamos en listas diferentes\n",
    "Inicio=[]\n",
    "Final=[]\n",
    "Forecast=[]\n",
    "Actual=[]\n",
    "Indicador=[]\n",
    "for i in range(len(info[\"data\"])):\n",
    "    Inicio.append(info[\"data\"][i][\"from\"])\n",
    "    Final.append(info[\"data\"][i][\"to\"])\n",
    "    Forecast.append(info[\"data\"][i][\"intensity\"][\"forecast\"])\n",
    "    Actual.append(info[\"data\"][i][\"intensity\"][\"actual\"])\n",
    "    Indicador.append(info[\"data\"][i][\"intensity\"][\"index\"])\n",
    "print(Inicio)"
   ]
  },
  {
   "cell_type": "markdown",
   "metadata": {},
   "source": [
    "### Importamos los datos a un csv : "
   ]
  },
  {
   "cell_type": "code",
   "execution_count": null,
   "metadata": {},
   "outputs": [],
   "source": [
    "# Convertimos en un data frame, las listas que contienen la informacion extraida en tiempo real\n",
    "m=pd.DataFrame(list(zip(Inicio,Final,Forecast,Actual,Indicador)),columns = [\"Inicio\",\"Final\",\"Forecast\",\"Actual\",\"Indicador\"])\n",
    "print(m)\n",
    "# Convertimos el data frame, en un archivo csv, para el mejor manejo de la información\n",
    "m.to_csv(\"data.csv\")"
   ]
  },
  {
   "cell_type": "markdown",
   "metadata": {},
   "source": [
    "### Ejemplo 2 : \n",
    "En la siguiente extracción de datos, evaluaremos las emisiones de carbono, por **regiones**\n",
    "* Obtiene datos de la intensidad de carbono para la media hora actual para las regiones de GB\n",
    "* Obtiene datos de la intensidad de carbono regional para la media hora actual.  \n",
    "Todas las horas se proporcionan en UTC (+00: 00).   \n",
    "**Total de datos a extraer :** 18  \n",
    "Link ha usar :[https://api.carbonintensity.org.uk/regional](https://api.carbonintensity.org.uk/regional)   \n",
    "![Esta es una imagen de ejemplo](https://i.blogs.es/5a0dc5/portada/1366_2000.png)"
   ]
  },
  {
   "cell_type": "code",
   "execution_count": 80,
   "metadata": {},
   "outputs": [
    {
     "name": "stdout",
     "output_type": "stream",
     "text": [
      "<class 'dict'>\n",
      "dict_keys(['regionid', 'dnoregion', 'shortname', 'intensity', 'generationmix'])\n",
      "['North Scotland', 'South Scotland', 'North West England', 'North East England', 'Yorkshire', 'North Wales & Merseyside', 'South Wales', 'West Midlands', 'East Midlands', 'East England', 'South West England', 'South England', 'London', 'South East England', 'England', 'Scotland', 'Wales', 'GB']\n",
      "['Scottish Hydro Electric Power Distribution', 'SP Distribution', 'Electricity North West', 'NPG North East', 'NPG Yorkshire', 'SP Manweb', 'WPD South Wales', 'WPD West Midlands', 'WPD East Midlands', 'UKPN East', 'WPD South West', 'SSE South', 'UKPN London', 'UKPN South East', 'England', 'Scotland', 'Wales', 'GB']\n",
      "[0, 3, 170, 170, 335, 272, 365, 366, 464, 186, 289, 290, 146, 131, 274, 5, 316, 246]\n",
      "['very low', 'very low', 'moderate', 'moderate', 'high', 'high', 'very high', 'very high', 'very high', 'moderate', 'high', 'high', 'low', 'low', 'high', 'very low', 'high', 'moderate']\n"
     ]
    }
   ],
   "source": [
    "link=\"https://api.carbonintensity.org.uk/regional\"\n",
    "uclient=urlopen(link)\n",
    "# Leemos los datos\n",
    "res=uclient.read()\n",
    "uclient.close()\n",
    "data = res.decode()\n",
    "\n",
    "# # Convertimos a formato json (diccionarios)\n",
    "info = json.loads(data)\n",
    "print(type(info))\n",
    "# Obtenemos los keys de info.data :\n",
    "print(info[\"data\"][0][\"regions\"][0].keys())\n",
    "info[\"data\"][0][\"regions\"][0][\"dnoregion\"]\n",
    "\n",
    "# Extraemos los nombres de las centrales de las regiones :\n",
    "p=[]\n",
    "for i in range(len(info[\"data\"][0][\"regions\"])):\n",
    "    #print(info[\"data\"][0][\"regions\"][i][\"shortname\"])\n",
    "    p.append(info[\"data\"][0][\"regions\"][i][\"shortname\"])\n",
    "print(p)\n",
    "\n",
    "# Extraemos los nombres de las regiones : \n",
    "l=[]\n",
    "for i in range(len(info[\"data\"][0][\"regions\"])):\n",
    "    #print(info[\"data\"][0][\"regions\"][i][\"dnoregion\"])\n",
    "    l.append(info[\"data\"][0][\"regions\"][i][\"dnoregion\"])\n",
    "print(l)\n",
    "\n",
    "# Extraemos la intensidad por cada región : \n",
    "y=[]\n",
    "m=[]\n",
    "for i in range(len(info[\"data\"][0][\"regions\"])):\n",
    "    #print(info[\"data\"][0][\"regions\"][i][\"intensity\"])\n",
    "    y.append(info[\"data\"][0][\"regions\"][i][\"intensity\"][\"forecast\"])\n",
    "    m.append(info[\"data\"][0][\"regions\"][i][\"intensity\"][\"index\"])\n",
    "print(y)\n",
    "print(m)\n"
   ]
  },
  {
   "cell_type": "markdown",
   "metadata": {},
   "source": [
    "#### Breve descripción de variables de extracción : \n",
    "* **Forecast** : Es la estimación del nivel emisión de carbono para la fecha indicada\n",
    "* **Index** : Clasifica el nivel de carbono **(Low/Very Low/Moderate/High/Very hight)**  \n",
    "Al momento de extraer los datos, es posible que aparezaca None, debido a que los datos no han sido resgistrado, es decir, el \n",
    "registro de la emision de carbono, se da con consuetudinariamente."
   ]
  },
  {
   "cell_type": "markdown",
   "metadata": {},
   "source": [
    "#### Importamos los datos en un csv: "
   ]
  },
  {
   "cell_type": "code",
   "execution_count": 81,
   "metadata": {},
   "outputs": [
    {
     "name": "stdout",
     "output_type": "stream",
     "text": [
      "                     Central                               Nombre_Region  \\\n",
      "0             North Scotland  Scottish Hydro Electric Power Distribution   \n",
      "1             South Scotland                             SP Distribution   \n",
      "2         North West England                      Electricity North West   \n",
      "3         North East England                              NPG North East   \n",
      "4                  Yorkshire                               NPG Yorkshire   \n",
      "5   North Wales & Merseyside                                   SP Manweb   \n",
      "6                South Wales                             WPD South Wales   \n",
      "7              West Midlands                           WPD West Midlands   \n",
      "8              East Midlands                           WPD East Midlands   \n",
      "9               East England                                   UKPN East   \n",
      "10        South West England                              WPD South West   \n",
      "11             South England                                   SSE South   \n",
      "12                    London                                 UKPN London   \n",
      "13        South East England                             UKPN South East   \n",
      "14                   England                                     England   \n",
      "15                  Scotland                                    Scotland   \n",
      "16                     Wales                                       Wales   \n",
      "17                        GB                                          GB   \n",
      "\n",
      "    Forecast  Indicador  \n",
      "0          0   very low  \n",
      "1          3   very low  \n",
      "2        170   moderate  \n",
      "3        170   moderate  \n",
      "4        335       high  \n",
      "5        272       high  \n",
      "6        365  very high  \n",
      "7        366  very high  \n",
      "8        464  very high  \n",
      "9        186   moderate  \n",
      "10       289       high  \n",
      "11       290       high  \n",
      "12       146        low  \n",
      "13       131        low  \n",
      "14       274       high  \n",
      "15         5   very low  \n",
      "16       316       high  \n",
      "17       246   moderate  \n"
     ]
    }
   ],
   "source": [
    "# Convertimos en un data frame, las listas que contienen la informacion extraida en tiempo real\n",
    "dat=pd.DataFrame(list(zip(p,l,y,m)),columns = [\"Central\",\"Nombre_Region\",\"Forecast\",\"Indicador\"])\n",
    "print(dat)\n",
    "# Convertimos el data frame, en un archivo csv, para el mejor manejo de la información\n",
    "dat.to_csv(\"Regiones_emision.csv\")"
   ]
  },
  {
   "cell_type": "markdown",
   "metadata": {},
   "source": [
    "### Integrantes : \n",
    "    - Torres Jorges, David Jesús           20190312\n",
    "    - Vasquez Pelaez, Melannie Geraldine   20190315"
   ]
  }
 ],
 "metadata": {
  "kernelspec": {
   "display_name": "Python 3",
   "language": "python",
   "name": "python3"
  },
  "language_info": {
   "codemirror_mode": {
    "name": "ipython",
    "version": 3
   },
   "file_extension": ".py",
   "mimetype": "text/x-python",
   "name": "python",
   "nbconvert_exporter": "python",
   "pygments_lexer": "ipython3",
   "version": "3.7.6"
  }
 },
 "nbformat": 4,
 "nbformat_minor": 4
}
